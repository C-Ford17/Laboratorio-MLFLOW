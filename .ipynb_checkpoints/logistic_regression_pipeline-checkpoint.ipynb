{
 "cells": [
  {
   "cell_type": "code",
   "execution_count": 1,
   "id": "7a12175c-ccc5-4f81-aa05-9f694c041588",
   "metadata": {},
   "outputs": [
    {
     "name": "stdout",
     "output_type": "stream",
     "text": [
      "Requirement already satisfied: scikit-learn in c:\\users\\christian\\appdata\\local\\programs\\python\\python311\\lib\\site-packages (1.5.2)\n",
      "Requirement already satisfied: numpy>=1.19.5 in c:\\users\\christian\\appdata\\local\\programs\\python\\python311\\lib\\site-packages (from scikit-learn) (1.26.4)\n",
      "Requirement already satisfied: scipy>=1.6.0 in c:\\users\\christian\\appdata\\local\\programs\\python\\python311\\lib\\site-packages (from scikit-learn) (1.14.1)\n",
      "Requirement already satisfied: joblib>=1.2.0 in c:\\users\\christian\\appdata\\local\\programs\\python\\python311\\lib\\site-packages (from scikit-learn) (1.4.2)\n",
      "Requirement already satisfied: threadpoolctl>=3.1.0 in c:\\users\\christian\\appdata\\local\\programs\\python\\python311\\lib\\site-packages (from scikit-learn) (3.5.0)\n"
     ]
    },
    {
     "name": "stderr",
     "output_type": "stream",
     "text": [
      "\n",
      "[notice] A new release of pip available: 22.3.1 -> 25.2\n",
      "[notice] To update, run: python.exe -m pip install --upgrade pip\n"
     ]
    }
   ],
   "source": [
    "!pip install scikit-learn"
   ]
  },
  {
   "cell_type": "code",
   "execution_count": 2,
   "id": "9f52967c-8bec-4c4a-b382-b7b5d269b8e1",
   "metadata": {},
   "outputs": [
    {
     "name": "stderr",
     "output_type": "stream",
     "text": [
      "2025/10/15 22:01:31 INFO mlflow.tracking.fluent: Experiment with name 'laboratorio_2_modelos' does not exist. Creating a new experiment.\n"
     ]
    },
    {
     "data": {
      "text/plain": [
       "<Experiment: artifact_location='file:///C:/Users/Christian/Documents/mlflow/mlruns/737948140961245115', creation_time=1760583691346, experiment_id='737948140961245115', last_update_time=1760583691346, lifecycle_stage='active', name='laboratorio_2_modelos', tags={}>"
      ]
     },
     "execution_count": 2,
     "metadata": {},
     "output_type": "execute_result"
    }
   ],
   "source": [
    "import mlflow\n",
    "import mlflow.sklearn\n",
    "from sklearn.datasets import load_iris\n",
    "from sklearn.model_selection import train_test_split\n",
    "from sklearn.linear_model import LogisticRegression\n",
    "from sklearn.metrics import accuracy_score, f1_score\n",
    "\n",
    "# Configura tu experimento (usa el mismo o uno nuevo)\n",
    "mlflow.set_experiment(\"laboratorio_2_modelos\")"
   ]
  },
  {
   "cell_type": "code",
   "execution_count": 3,
   "id": "937ce9a0-2c59-47bc-aef6-37092601febb",
   "metadata": {},
   "outputs": [
    {
     "name": "stderr",
     "output_type": "stream",
     "text": [
      "C:\\Users\\Christian\\AppData\\Local\\Programs\\Python\\Python311\\Lib\\site-packages\\sklearn\\linear_model\\_logistic.py:1247: FutureWarning: 'multi_class' was deprecated in version 1.5 and will be removed in 1.7. From then on, it will always use 'multinomial'. Leave it to its default value to avoid this warning.\n",
      "  warnings.warn(\n"
     ]
    }
   ],
   "source": [
    "# Cargar dataset\n",
    "data = load_iris()\n",
    "X_train, X_test, y_train, y_test = train_test_split(\n",
    "    data.data, data.target, test_size=0.3, random_state=42\n",
    ")\n",
    "\n",
    "# Hiperparámetros del modelo\n",
    "C = 1.0\n",
    "solver = \"lbfgs\"\n",
    "max_iter = 200\n",
    "\n",
    "# Entrenar modelo\n",
    "model = LogisticRegression(C=C, solver=solver, max_iter=max_iter, multi_class='auto')\n",
    "model.fit(X_train, y_train)\n",
    "\n",
    "# Evaluar\n",
    "y_pred = model.predict(X_test)\n",
    "accuracy = float(accuracy_score(y_test, y_pred))\n",
    "f1 = float(f1_score(y_test, y_pred, average='weighted'))"
   ]
  },
  {
   "cell_type": "code",
   "execution_count": 4,
   "id": "c92f7cc6-a75e-40bc-aab5-866a6c70205b",
   "metadata": {},
   "outputs": [
    {
     "name": "stderr",
     "output_type": "stream",
     "text": [
      "2025/10/15 22:01:34 WARNING mlflow.models.model: Model logged without a signature and input example. Please set `input_example` parameter when logging the model to auto infer the model signature.\n"
     ]
    },
    {
     "name": "stdout",
     "output_type": "stream",
     "text": [
      "Modelo registrado: runs:/5ff0a25d18a3450ebe0e6b89a21a8e5e/model\n"
     ]
    },
    {
     "name": "stderr",
     "output_type": "stream",
     "text": [
      "Successfully registered model 'modelo_logistico_laboratorio'.\n",
      "Created version '1' of model 'modelo_logistico_laboratorio'.\n"
     ]
    }
   ],
   "source": [
    "with mlflow.start_run(run_name=\"logistic_regression_model\") as run:\n",
    "    # Registrar hiperparámetros\n",
    "    mlflow.log_param(\"C\", C)\n",
    "    mlflow.log_param(\"solver\", solver)\n",
    "    mlflow.log_param(\"max_iter\", max_iter)\n",
    "\n",
    "    # Registrar métricas (convertidas a float por seguridad)\n",
    "    mlflow.log_metric(\"accuracy\", float(accuracy))\n",
    "    mlflow.log_metric(\"f1_score\", float(f1))\n",
    "\n",
    "    # Guardar modelo y registrar en Model Registry\n",
    "    model_info = mlflow.sklearn.log_model(\n",
    "        sk_model=model,\n",
    "        artifact_path=\"model\",\n",
    "        registered_model_name=\"modelo_logistico_laboratorio\"\n",
    "    )\n",
    "\n",
    "    print(f\"Modelo registrado: {model_info.model_uri}\")"
   ]
  },
  {
   "cell_type": "code",
   "execution_count": null,
   "id": "f24b27b6-260e-4a0a-8a52-4faddf1562d8",
   "metadata": {},
   "outputs": [],
   "source": []
  }
 ],
 "metadata": {
  "kernelspec": {
   "display_name": "Python 3 (ipykernel)",
   "language": "python",
   "name": "python3"
  },
  "language_info": {
   "codemirror_mode": {
    "name": "ipython",
    "version": 3
   },
   "file_extension": ".py",
   "mimetype": "text/x-python",
   "name": "python",
   "nbconvert_exporter": "python",
   "pygments_lexer": "ipython3",
   "version": "3.11.2"
  }
 },
 "nbformat": 4,
 "nbformat_minor": 5
}
